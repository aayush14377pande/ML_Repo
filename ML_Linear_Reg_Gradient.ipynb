{
  "nbformat": 4,
  "nbformat_minor": 0,
  "metadata": {
    "colab": {
      "provenance": [],
      "include_colab_link": true
    },
    "kernelspec": {
      "name": "python3",
      "display_name": "Python 3"
    },
    "language_info": {
      "name": "python"
    }
  },
  "cells": [
    {
      "cell_type": "markdown",
      "metadata": {
        "id": "view-in-github",
        "colab_type": "text"
      },
      "source": [
        "<a href=\"https://colab.research.google.com/github/aayush14377pande/ML_Repo/blob/main/ML_Linear_Reg_Gradient.ipynb\" target=\"_parent\"><img src=\"https://colab.research.google.com/assets/colab-badge.svg\" alt=\"Open In Colab\"/></a>"
      ]
    },
    {
      "cell_type": "markdown",
      "source": [
        "# Machine Learning: Gradient Descent Algorithm\n",
        "### Name: Aayush Pande"
      ],
      "metadata": {
        "id": "UsSNHGeSOoxV"
      }
    },
    {
      "cell_type": "code",
      "source": [
        "from google.colab import drive\n",
        "drive.mount('/content/drive')"
      ],
      "metadata": {
        "colab": {
          "base_uri": "https://localhost:8080/"
        },
        "id": "NfPEHJHZESQz",
        "outputId": "0b02e43e-527e-4e56-cc68-358caaf975d0"
      },
      "execution_count": 2,
      "outputs": [
        {
          "output_type": "stream",
          "name": "stdout",
          "text": [
            "Drive already mounted at /content/drive; to attempt to forcibly remount, call drive.mount(\"/content/drive\", force_remount=True).\n"
          ]
        }
      ]
    },
    {
      "cell_type": "markdown",
      "source": [
        "## Import Necessary Libraries"
      ],
      "metadata": {
        "id": "AB8SZyNzOVk4"
      }
    },
    {
      "cell_type": "code",
      "execution_count": 3,
      "metadata": {
        "id": "aMbC0mCZ1oVu"
      },
      "outputs": [],
      "source": [
        "import numpy as np\n",
        "import pandas as pd\n",
        "import matplotlib.pyplot as plt\n",
        "from sklearn.model_selection import train_test_split"
      ]
    },
    {
      "cell_type": "code",
      "source": [
        "df = pd.read_csv('/content/drive/MyDrive/Colab Notebooks/ML_Folder/ex1data1.csv',names = ['Population','Profit'])"
      ],
      "metadata": {
        "id": "r9IhOpxo2p47"
      },
      "execution_count": 4,
      "outputs": []
    },
    {
      "cell_type": "code",
      "source": [
        "df.head()"
      ],
      "metadata": {
        "colab": {
          "base_uri": "https://localhost:8080/",
          "height": 204
        },
        "id": "XQhJMDe-dRk8",
        "outputId": "98a0b9ce-faab-4090-e6a1-9db8aa3fec14"
      },
      "execution_count": 5,
      "outputs": [
        {
          "output_type": "execute_result",
          "data": {
            "text/plain": [
              "   Population   Profit\n",
              "0      6.1101  17.5920\n",
              "1      5.5277   9.1302\n",
              "2      8.5186  13.6620\n",
              "3      7.0032  11.8540\n",
              "4      5.8598   6.8233"
            ],
            "text/html": [
              "\n",
              "  <div id=\"df-b53ee7b9-08fb-4585-b146-18adb932d060\" class=\"colab-df-container\">\n",
              "    <div>\n",
              "<style scoped>\n",
              "    .dataframe tbody tr th:only-of-type {\n",
              "        vertical-align: middle;\n",
              "    }\n",
              "\n",
              "    .dataframe tbody tr th {\n",
              "        vertical-align: top;\n",
              "    }\n",
              "\n",
              "    .dataframe thead th {\n",
              "        text-align: right;\n",
              "    }\n",
              "</style>\n",
              "<table border=\"1\" class=\"dataframe\">\n",
              "  <thead>\n",
              "    <tr style=\"text-align: right;\">\n",
              "      <th></th>\n",
              "      <th>Population</th>\n",
              "      <th>Profit</th>\n",
              "    </tr>\n",
              "  </thead>\n",
              "  <tbody>\n",
              "    <tr>\n",
              "      <th>0</th>\n",
              "      <td>6.1101</td>\n",
              "      <td>17.5920</td>\n",
              "    </tr>\n",
              "    <tr>\n",
              "      <th>1</th>\n",
              "      <td>5.5277</td>\n",
              "      <td>9.1302</td>\n",
              "    </tr>\n",
              "    <tr>\n",
              "      <th>2</th>\n",
              "      <td>8.5186</td>\n",
              "      <td>13.6620</td>\n",
              "    </tr>\n",
              "    <tr>\n",
              "      <th>3</th>\n",
              "      <td>7.0032</td>\n",
              "      <td>11.8540</td>\n",
              "    </tr>\n",
              "    <tr>\n",
              "      <th>4</th>\n",
              "      <td>5.8598</td>\n",
              "      <td>6.8233</td>\n",
              "    </tr>\n",
              "  </tbody>\n",
              "</table>\n",
              "</div>\n",
              "    <div class=\"colab-df-buttons\">\n",
              "\n",
              "  <div class=\"colab-df-container\">\n",
              "    <button class=\"colab-df-convert\" onclick=\"convertToInteractive('df-b53ee7b9-08fb-4585-b146-18adb932d060')\"\n",
              "            title=\"Convert this dataframe to an interactive table.\"\n",
              "            style=\"display:none;\">\n",
              "\n",
              "  <svg xmlns=\"http://www.w3.org/2000/svg\" height=\"24px\" viewBox=\"0 -960 960 960\">\n",
              "    <path d=\"M120-120v-720h720v720H120Zm60-500h600v-160H180v160Zm220 220h160v-160H400v160Zm0 220h160v-160H400v160ZM180-400h160v-160H180v160Zm440 0h160v-160H620v160ZM180-180h160v-160H180v160Zm440 0h160v-160H620v160Z\"/>\n",
              "  </svg>\n",
              "    </button>\n",
              "\n",
              "  <style>\n",
              "    .colab-df-container {\n",
              "      display:flex;\n",
              "      gap: 12px;\n",
              "    }\n",
              "\n",
              "    .colab-df-convert {\n",
              "      background-color: #E8F0FE;\n",
              "      border: none;\n",
              "      border-radius: 50%;\n",
              "      cursor: pointer;\n",
              "      display: none;\n",
              "      fill: #1967D2;\n",
              "      height: 32px;\n",
              "      padding: 0 0 0 0;\n",
              "      width: 32px;\n",
              "    }\n",
              "\n",
              "    .colab-df-convert:hover {\n",
              "      background-color: #E2EBFA;\n",
              "      box-shadow: 0px 1px 2px rgba(60, 64, 67, 0.3), 0px 1px 3px 1px rgba(60, 64, 67, 0.15);\n",
              "      fill: #174EA6;\n",
              "    }\n",
              "\n",
              "    .colab-df-buttons div {\n",
              "      margin-bottom: 4px;\n",
              "    }\n",
              "\n",
              "    [theme=dark] .colab-df-convert {\n",
              "      background-color: #3B4455;\n",
              "      fill: #D2E3FC;\n",
              "    }\n",
              "\n",
              "    [theme=dark] .colab-df-convert:hover {\n",
              "      background-color: #434B5C;\n",
              "      box-shadow: 0px 1px 3px 1px rgba(0, 0, 0, 0.15);\n",
              "      filter: drop-shadow(0px 1px 2px rgba(0, 0, 0, 0.3));\n",
              "      fill: #FFFFFF;\n",
              "    }\n",
              "  </style>\n",
              "\n",
              "    <script>\n",
              "      const buttonEl =\n",
              "        document.querySelector('#df-b53ee7b9-08fb-4585-b146-18adb932d060 button.colab-df-convert');\n",
              "      buttonEl.style.display =\n",
              "        google.colab.kernel.accessAllowed ? 'block' : 'none';\n",
              "\n",
              "      async function convertToInteractive(key) {\n",
              "        const element = document.querySelector('#df-b53ee7b9-08fb-4585-b146-18adb932d060');\n",
              "        const dataTable =\n",
              "          await google.colab.kernel.invokeFunction('convertToInteractive',\n",
              "                                                    [key], {});\n",
              "        if (!dataTable) return;\n",
              "\n",
              "        const docLinkHtml = 'Like what you see? Visit the ' +\n",
              "          '<a target=\"_blank\" href=https://colab.research.google.com/notebooks/data_table.ipynb>data table notebook</a>'\n",
              "          + ' to learn more about interactive tables.';\n",
              "        element.innerHTML = '';\n",
              "        dataTable['output_type'] = 'display_data';\n",
              "        await google.colab.output.renderOutput(dataTable, element);\n",
              "        const docLink = document.createElement('div');\n",
              "        docLink.innerHTML = docLinkHtml;\n",
              "        element.appendChild(docLink);\n",
              "      }\n",
              "    </script>\n",
              "  </div>\n",
              "\n",
              "\n",
              "<div id=\"df-8039e658-866e-4dc2-b6c5-ca212a1f3f1e\">\n",
              "  <button class=\"colab-df-quickchart\" onclick=\"quickchart('df-8039e658-866e-4dc2-b6c5-ca212a1f3f1e')\"\n",
              "            title=\"Suggest charts\"\n",
              "            style=\"display:none;\">\n",
              "\n",
              "<svg xmlns=\"http://www.w3.org/2000/svg\" height=\"24px\"viewBox=\"0 0 24 24\"\n",
              "     width=\"24px\">\n",
              "    <g>\n",
              "        <path d=\"M19 3H5c-1.1 0-2 .9-2 2v14c0 1.1.9 2 2 2h14c1.1 0 2-.9 2-2V5c0-1.1-.9-2-2-2zM9 17H7v-7h2v7zm4 0h-2V7h2v10zm4 0h-2v-4h2v4z\"/>\n",
              "    </g>\n",
              "</svg>\n",
              "  </button>\n",
              "\n",
              "<style>\n",
              "  .colab-df-quickchart {\n",
              "      --bg-color: #E8F0FE;\n",
              "      --fill-color: #1967D2;\n",
              "      --hover-bg-color: #E2EBFA;\n",
              "      --hover-fill-color: #174EA6;\n",
              "      --disabled-fill-color: #AAA;\n",
              "      --disabled-bg-color: #DDD;\n",
              "  }\n",
              "\n",
              "  [theme=dark] .colab-df-quickchart {\n",
              "      --bg-color: #3B4455;\n",
              "      --fill-color: #D2E3FC;\n",
              "      --hover-bg-color: #434B5C;\n",
              "      --hover-fill-color: #FFFFFF;\n",
              "      --disabled-bg-color: #3B4455;\n",
              "      --disabled-fill-color: #666;\n",
              "  }\n",
              "\n",
              "  .colab-df-quickchart {\n",
              "    background-color: var(--bg-color);\n",
              "    border: none;\n",
              "    border-radius: 50%;\n",
              "    cursor: pointer;\n",
              "    display: none;\n",
              "    fill: var(--fill-color);\n",
              "    height: 32px;\n",
              "    padding: 0;\n",
              "    width: 32px;\n",
              "  }\n",
              "\n",
              "  .colab-df-quickchart:hover {\n",
              "    background-color: var(--hover-bg-color);\n",
              "    box-shadow: 0 1px 2px rgba(60, 64, 67, 0.3), 0 1px 3px 1px rgba(60, 64, 67, 0.15);\n",
              "    fill: var(--button-hover-fill-color);\n",
              "  }\n",
              "\n",
              "  .colab-df-quickchart-complete:disabled,\n",
              "  .colab-df-quickchart-complete:disabled:hover {\n",
              "    background-color: var(--disabled-bg-color);\n",
              "    fill: var(--disabled-fill-color);\n",
              "    box-shadow: none;\n",
              "  }\n",
              "\n",
              "  .colab-df-spinner {\n",
              "    border: 2px solid var(--fill-color);\n",
              "    border-color: transparent;\n",
              "    border-bottom-color: var(--fill-color);\n",
              "    animation:\n",
              "      spin 1s steps(1) infinite;\n",
              "  }\n",
              "\n",
              "  @keyframes spin {\n",
              "    0% {\n",
              "      border-color: transparent;\n",
              "      border-bottom-color: var(--fill-color);\n",
              "      border-left-color: var(--fill-color);\n",
              "    }\n",
              "    20% {\n",
              "      border-color: transparent;\n",
              "      border-left-color: var(--fill-color);\n",
              "      border-top-color: var(--fill-color);\n",
              "    }\n",
              "    30% {\n",
              "      border-color: transparent;\n",
              "      border-left-color: var(--fill-color);\n",
              "      border-top-color: var(--fill-color);\n",
              "      border-right-color: var(--fill-color);\n",
              "    }\n",
              "    40% {\n",
              "      border-color: transparent;\n",
              "      border-right-color: var(--fill-color);\n",
              "      border-top-color: var(--fill-color);\n",
              "    }\n",
              "    60% {\n",
              "      border-color: transparent;\n",
              "      border-right-color: var(--fill-color);\n",
              "    }\n",
              "    80% {\n",
              "      border-color: transparent;\n",
              "      border-right-color: var(--fill-color);\n",
              "      border-bottom-color: var(--fill-color);\n",
              "    }\n",
              "    90% {\n",
              "      border-color: transparent;\n",
              "      border-bottom-color: var(--fill-color);\n",
              "    }\n",
              "  }\n",
              "</style>\n",
              "\n",
              "  <script>\n",
              "    async function quickchart(key) {\n",
              "      const quickchartButtonEl =\n",
              "        document.querySelector('#' + key + ' button');\n",
              "      quickchartButtonEl.disabled = true;  // To prevent multiple clicks.\n",
              "      quickchartButtonEl.classList.add('colab-df-spinner');\n",
              "      try {\n",
              "        const charts = await google.colab.kernel.invokeFunction(\n",
              "            'suggestCharts', [key], {});\n",
              "      } catch (error) {\n",
              "        console.error('Error during call to suggestCharts:', error);\n",
              "      }\n",
              "      quickchartButtonEl.classList.remove('colab-df-spinner');\n",
              "      quickchartButtonEl.classList.add('colab-df-quickchart-complete');\n",
              "    }\n",
              "    (() => {\n",
              "      let quickchartButtonEl =\n",
              "        document.querySelector('#df-8039e658-866e-4dc2-b6c5-ca212a1f3f1e button');\n",
              "      quickchartButtonEl.style.display =\n",
              "        google.colab.kernel.accessAllowed ? 'block' : 'none';\n",
              "    })();\n",
              "  </script>\n",
              "</div>\n",
              "\n",
              "    </div>\n",
              "  </div>\n"
            ],
            "application/vnd.google.colaboratory.intrinsic+json": {
              "type": "dataframe",
              "variable_name": "df",
              "summary": "{\n  \"name\": \"df\",\n  \"rows\": 97,\n  \"fields\": [\n    {\n      \"column\": \"Population\",\n      \"properties\": {\n        \"dtype\": \"number\",\n        \"std\": 3.869883527882332,\n        \"min\": 5.0269,\n        \"max\": 22.203,\n        \"num_unique_values\": 97,\n        \"samples\": [\n          21.279,\n          5.4069,\n          5.3054\n        ],\n        \"semantic_type\": \"\",\n        \"description\": \"\"\n      }\n    },\n    {\n      \"column\": \"Profit\",\n      \"properties\": {\n        \"dtype\": \"number\",\n        \"std\": 5.510262255231544,\n        \"min\": -2.6807,\n        \"max\": 24.147,\n        \"num_unique_values\": 97,\n        \"samples\": [\n          17.929,\n          0.55657,\n          1.9869\n        ],\n        \"semantic_type\": \"\",\n        \"description\": \"\"\n      }\n    }\n  ]\n}"
            }
          },
          "metadata": {},
          "execution_count": 5
        }
      ]
    },
    {
      "cell_type": "code",
      "source": [
        "df.describe()"
      ],
      "metadata": {
        "colab": {
          "base_uri": "https://localhost:8080/",
          "height": 297
        },
        "id": "6ETTuA00dXGy",
        "outputId": "3b47d7f9-5e04-46fd-f036-8f321025b757"
      },
      "execution_count": 6,
      "outputs": [
        {
          "output_type": "execute_result",
          "data": {
            "text/plain": [
              "       Population     Profit\n",
              "count   97.000000  97.000000\n",
              "mean     8.159800   5.839135\n",
              "std      3.869884   5.510262\n",
              "min      5.026900  -2.680700\n",
              "25%      5.707700   1.986900\n",
              "50%      6.589400   4.562300\n",
              "75%      8.578100   7.046700\n",
              "max     22.203000  24.147000"
            ],
            "text/html": [
              "\n",
              "  <div id=\"df-3b90d58d-3c33-4020-859a-bb6f509ad007\" class=\"colab-df-container\">\n",
              "    <div>\n",
              "<style scoped>\n",
              "    .dataframe tbody tr th:only-of-type {\n",
              "        vertical-align: middle;\n",
              "    }\n",
              "\n",
              "    .dataframe tbody tr th {\n",
              "        vertical-align: top;\n",
              "    }\n",
              "\n",
              "    .dataframe thead th {\n",
              "        text-align: right;\n",
              "    }\n",
              "</style>\n",
              "<table border=\"1\" class=\"dataframe\">\n",
              "  <thead>\n",
              "    <tr style=\"text-align: right;\">\n",
              "      <th></th>\n",
              "      <th>Population</th>\n",
              "      <th>Profit</th>\n",
              "    </tr>\n",
              "  </thead>\n",
              "  <tbody>\n",
              "    <tr>\n",
              "      <th>count</th>\n",
              "      <td>97.000000</td>\n",
              "      <td>97.000000</td>\n",
              "    </tr>\n",
              "    <tr>\n",
              "      <th>mean</th>\n",
              "      <td>8.159800</td>\n",
              "      <td>5.839135</td>\n",
              "    </tr>\n",
              "    <tr>\n",
              "      <th>std</th>\n",
              "      <td>3.869884</td>\n",
              "      <td>5.510262</td>\n",
              "    </tr>\n",
              "    <tr>\n",
              "      <th>min</th>\n",
              "      <td>5.026900</td>\n",
              "      <td>-2.680700</td>\n",
              "    </tr>\n",
              "    <tr>\n",
              "      <th>25%</th>\n",
              "      <td>5.707700</td>\n",
              "      <td>1.986900</td>\n",
              "    </tr>\n",
              "    <tr>\n",
              "      <th>50%</th>\n",
              "      <td>6.589400</td>\n",
              "      <td>4.562300</td>\n",
              "    </tr>\n",
              "    <tr>\n",
              "      <th>75%</th>\n",
              "      <td>8.578100</td>\n",
              "      <td>7.046700</td>\n",
              "    </tr>\n",
              "    <tr>\n",
              "      <th>max</th>\n",
              "      <td>22.203000</td>\n",
              "      <td>24.147000</td>\n",
              "    </tr>\n",
              "  </tbody>\n",
              "</table>\n",
              "</div>\n",
              "    <div class=\"colab-df-buttons\">\n",
              "\n",
              "  <div class=\"colab-df-container\">\n",
              "    <button class=\"colab-df-convert\" onclick=\"convertToInteractive('df-3b90d58d-3c33-4020-859a-bb6f509ad007')\"\n",
              "            title=\"Convert this dataframe to an interactive table.\"\n",
              "            style=\"display:none;\">\n",
              "\n",
              "  <svg xmlns=\"http://www.w3.org/2000/svg\" height=\"24px\" viewBox=\"0 -960 960 960\">\n",
              "    <path d=\"M120-120v-720h720v720H120Zm60-500h600v-160H180v160Zm220 220h160v-160H400v160Zm0 220h160v-160H400v160ZM180-400h160v-160H180v160Zm440 0h160v-160H620v160ZM180-180h160v-160H180v160Zm440 0h160v-160H620v160Z\"/>\n",
              "  </svg>\n",
              "    </button>\n",
              "\n",
              "  <style>\n",
              "    .colab-df-container {\n",
              "      display:flex;\n",
              "      gap: 12px;\n",
              "    }\n",
              "\n",
              "    .colab-df-convert {\n",
              "      background-color: #E8F0FE;\n",
              "      border: none;\n",
              "      border-radius: 50%;\n",
              "      cursor: pointer;\n",
              "      display: none;\n",
              "      fill: #1967D2;\n",
              "      height: 32px;\n",
              "      padding: 0 0 0 0;\n",
              "      width: 32px;\n",
              "    }\n",
              "\n",
              "    .colab-df-convert:hover {\n",
              "      background-color: #E2EBFA;\n",
              "      box-shadow: 0px 1px 2px rgba(60, 64, 67, 0.3), 0px 1px 3px 1px rgba(60, 64, 67, 0.15);\n",
              "      fill: #174EA6;\n",
              "    }\n",
              "\n",
              "    .colab-df-buttons div {\n",
              "      margin-bottom: 4px;\n",
              "    }\n",
              "\n",
              "    [theme=dark] .colab-df-convert {\n",
              "      background-color: #3B4455;\n",
              "      fill: #D2E3FC;\n",
              "    }\n",
              "\n",
              "    [theme=dark] .colab-df-convert:hover {\n",
              "      background-color: #434B5C;\n",
              "      box-shadow: 0px 1px 3px 1px rgba(0, 0, 0, 0.15);\n",
              "      filter: drop-shadow(0px 1px 2px rgba(0, 0, 0, 0.3));\n",
              "      fill: #FFFFFF;\n",
              "    }\n",
              "  </style>\n",
              "\n",
              "    <script>\n",
              "      const buttonEl =\n",
              "        document.querySelector('#df-3b90d58d-3c33-4020-859a-bb6f509ad007 button.colab-df-convert');\n",
              "      buttonEl.style.display =\n",
              "        google.colab.kernel.accessAllowed ? 'block' : 'none';\n",
              "\n",
              "      async function convertToInteractive(key) {\n",
              "        const element = document.querySelector('#df-3b90d58d-3c33-4020-859a-bb6f509ad007');\n",
              "        const dataTable =\n",
              "          await google.colab.kernel.invokeFunction('convertToInteractive',\n",
              "                                                    [key], {});\n",
              "        if (!dataTable) return;\n",
              "\n",
              "        const docLinkHtml = 'Like what you see? Visit the ' +\n",
              "          '<a target=\"_blank\" href=https://colab.research.google.com/notebooks/data_table.ipynb>data table notebook</a>'\n",
              "          + ' to learn more about interactive tables.';\n",
              "        element.innerHTML = '';\n",
              "        dataTable['output_type'] = 'display_data';\n",
              "        await google.colab.output.renderOutput(dataTable, element);\n",
              "        const docLink = document.createElement('div');\n",
              "        docLink.innerHTML = docLinkHtml;\n",
              "        element.appendChild(docLink);\n",
              "      }\n",
              "    </script>\n",
              "  </div>\n",
              "\n",
              "\n",
              "<div id=\"df-5b486f9d-9a65-4ddf-9141-16ae028a4dd7\">\n",
              "  <button class=\"colab-df-quickchart\" onclick=\"quickchart('df-5b486f9d-9a65-4ddf-9141-16ae028a4dd7')\"\n",
              "            title=\"Suggest charts\"\n",
              "            style=\"display:none;\">\n",
              "\n",
              "<svg xmlns=\"http://www.w3.org/2000/svg\" height=\"24px\"viewBox=\"0 0 24 24\"\n",
              "     width=\"24px\">\n",
              "    <g>\n",
              "        <path d=\"M19 3H5c-1.1 0-2 .9-2 2v14c0 1.1.9 2 2 2h14c1.1 0 2-.9 2-2V5c0-1.1-.9-2-2-2zM9 17H7v-7h2v7zm4 0h-2V7h2v10zm4 0h-2v-4h2v4z\"/>\n",
              "    </g>\n",
              "</svg>\n",
              "  </button>\n",
              "\n",
              "<style>\n",
              "  .colab-df-quickchart {\n",
              "      --bg-color: #E8F0FE;\n",
              "      --fill-color: #1967D2;\n",
              "      --hover-bg-color: #E2EBFA;\n",
              "      --hover-fill-color: #174EA6;\n",
              "      --disabled-fill-color: #AAA;\n",
              "      --disabled-bg-color: #DDD;\n",
              "  }\n",
              "\n",
              "  [theme=dark] .colab-df-quickchart {\n",
              "      --bg-color: #3B4455;\n",
              "      --fill-color: #D2E3FC;\n",
              "      --hover-bg-color: #434B5C;\n",
              "      --hover-fill-color: #FFFFFF;\n",
              "      --disabled-bg-color: #3B4455;\n",
              "      --disabled-fill-color: #666;\n",
              "  }\n",
              "\n",
              "  .colab-df-quickchart {\n",
              "    background-color: var(--bg-color);\n",
              "    border: none;\n",
              "    border-radius: 50%;\n",
              "    cursor: pointer;\n",
              "    display: none;\n",
              "    fill: var(--fill-color);\n",
              "    height: 32px;\n",
              "    padding: 0;\n",
              "    width: 32px;\n",
              "  }\n",
              "\n",
              "  .colab-df-quickchart:hover {\n",
              "    background-color: var(--hover-bg-color);\n",
              "    box-shadow: 0 1px 2px rgba(60, 64, 67, 0.3), 0 1px 3px 1px rgba(60, 64, 67, 0.15);\n",
              "    fill: var(--button-hover-fill-color);\n",
              "  }\n",
              "\n",
              "  .colab-df-quickchart-complete:disabled,\n",
              "  .colab-df-quickchart-complete:disabled:hover {\n",
              "    background-color: var(--disabled-bg-color);\n",
              "    fill: var(--disabled-fill-color);\n",
              "    box-shadow: none;\n",
              "  }\n",
              "\n",
              "  .colab-df-spinner {\n",
              "    border: 2px solid var(--fill-color);\n",
              "    border-color: transparent;\n",
              "    border-bottom-color: var(--fill-color);\n",
              "    animation:\n",
              "      spin 1s steps(1) infinite;\n",
              "  }\n",
              "\n",
              "  @keyframes spin {\n",
              "    0% {\n",
              "      border-color: transparent;\n",
              "      border-bottom-color: var(--fill-color);\n",
              "      border-left-color: var(--fill-color);\n",
              "    }\n",
              "    20% {\n",
              "      border-color: transparent;\n",
              "      border-left-color: var(--fill-color);\n",
              "      border-top-color: var(--fill-color);\n",
              "    }\n",
              "    30% {\n",
              "      border-color: transparent;\n",
              "      border-left-color: var(--fill-color);\n",
              "      border-top-color: var(--fill-color);\n",
              "      border-right-color: var(--fill-color);\n",
              "    }\n",
              "    40% {\n",
              "      border-color: transparent;\n",
              "      border-right-color: var(--fill-color);\n",
              "      border-top-color: var(--fill-color);\n",
              "    }\n",
              "    60% {\n",
              "      border-color: transparent;\n",
              "      border-right-color: var(--fill-color);\n",
              "    }\n",
              "    80% {\n",
              "      border-color: transparent;\n",
              "      border-right-color: var(--fill-color);\n",
              "      border-bottom-color: var(--fill-color);\n",
              "    }\n",
              "    90% {\n",
              "      border-color: transparent;\n",
              "      border-bottom-color: var(--fill-color);\n",
              "    }\n",
              "  }\n",
              "</style>\n",
              "\n",
              "  <script>\n",
              "    async function quickchart(key) {\n",
              "      const quickchartButtonEl =\n",
              "        document.querySelector('#' + key + ' button');\n",
              "      quickchartButtonEl.disabled = true;  // To prevent multiple clicks.\n",
              "      quickchartButtonEl.classList.add('colab-df-spinner');\n",
              "      try {\n",
              "        const charts = await google.colab.kernel.invokeFunction(\n",
              "            'suggestCharts', [key], {});\n",
              "      } catch (error) {\n",
              "        console.error('Error during call to suggestCharts:', error);\n",
              "      }\n",
              "      quickchartButtonEl.classList.remove('colab-df-spinner');\n",
              "      quickchartButtonEl.classList.add('colab-df-quickchart-complete');\n",
              "    }\n",
              "    (() => {\n",
              "      let quickchartButtonEl =\n",
              "        document.querySelector('#df-5b486f9d-9a65-4ddf-9141-16ae028a4dd7 button');\n",
              "      quickchartButtonEl.style.display =\n",
              "        google.colab.kernel.accessAllowed ? 'block' : 'none';\n",
              "    })();\n",
              "  </script>\n",
              "</div>\n",
              "\n",
              "    </div>\n",
              "  </div>\n"
            ],
            "application/vnd.google.colaboratory.intrinsic+json": {
              "type": "dataframe",
              "summary": "{\n  \"name\": \"df\",\n  \"rows\": 8,\n  \"fields\": [\n    {\n      \"column\": \"Population\",\n      \"properties\": {\n        \"dtype\": \"number\",\n        \"std\": 31.784914602764157,\n        \"min\": 3.869883527882332,\n        \"max\": 97.0,\n        \"num_unique_values\": 8,\n        \"samples\": [\n          8.159799999999999,\n          6.5894,\n          97.0\n        ],\n        \"semantic_type\": \"\",\n        \"description\": \"\"\n      }\n    },\n    {\n      \"column\": \"Profit\",\n      \"properties\": {\n        \"dtype\": \"number\",\n        \"std\": 32.87917231164401,\n        \"min\": -2.6807,\n        \"max\": 97.0,\n        \"num_unique_values\": 8,\n        \"samples\": [\n          5.839135051546393,\n          4.5623,\n          97.0\n        ],\n        \"semantic_type\": \"\",\n        \"description\": \"\"\n      }\n    }\n  ]\n}"
            }
          },
          "metadata": {},
          "execution_count": 6
        }
      ]
    },
    {
      "cell_type": "code",
      "source": [
        "df.info()"
      ],
      "metadata": {
        "colab": {
          "base_uri": "https://localhost:8080/"
        },
        "id": "EKVO1bSVdZ7o",
        "outputId": "d179ee39-e5c7-4df7-eec5-5720d44cdbbc"
      },
      "execution_count": 7,
      "outputs": [
        {
          "output_type": "stream",
          "name": "stdout",
          "text": [
            "<class 'pandas.core.frame.DataFrame'>\n",
            "RangeIndex: 97 entries, 0 to 96\n",
            "Data columns (total 2 columns):\n",
            " #   Column      Non-Null Count  Dtype  \n",
            "---  ------      --------------  -----  \n",
            " 0   Population  97 non-null     float64\n",
            " 1   Profit      97 non-null     float64\n",
            "dtypes: float64(2)\n",
            "memory usage: 1.6 KB\n"
          ]
        }
      ]
    },
    {
      "cell_type": "code",
      "source": [
        "x = np.array(df['Population'])\n",
        "y = np.array(df['Profit'])"
      ],
      "metadata": {
        "id": "R9CDfbGSfGzX"
      },
      "execution_count": 8,
      "outputs": []
    },
    {
      "cell_type": "code",
      "source": [
        "x_train,x_test,y_train,y_test = train_test_split(x, y, test_size = 0.2)"
      ],
      "metadata": {
        "id": "3S_hNqfFdfUc"
      },
      "execution_count": 9,
      "outputs": []
    },
    {
      "cell_type": "code",
      "source": [
        "print(f\"x_train has {x_train.shape[0]} elements\")"
      ],
      "metadata": {
        "colab": {
          "base_uri": "https://localhost:8080/"
        },
        "id": "PUcpVkMr44aJ",
        "outputId": "616e2886-9760-4178-df38-dc0ff371e76d"
      },
      "execution_count": 10,
      "outputs": [
        {
          "output_type": "stream",
          "name": "stdout",
          "text": [
            "x_train has 77 elements\n"
          ]
        }
      ]
    },
    {
      "cell_type": "code",
      "source": [
        "plt.scatter(x, y, c='r', marker='x')\n",
        "plt.xlabel('x(i)')\n",
        "plt.ylabel('y(i) [in thousands]')\n",
        "plt.title('Scatter plot for Sales in months')\n",
        "plt.show()"
      ],
      "metadata": {
        "colab": {
          "base_uri": "https://localhost:8080/",
          "height": 472
        },
        "id": "vtuc0mRx5LqQ",
        "outputId": "3a700dc9-c174-406a-b916-91bf6ec95b9c"
      },
      "execution_count": 11,
      "outputs": [
        {
          "output_type": "display_data",
          "data": {
            "text/plain": [
              "<Figure size 640x480 with 1 Axes>"
            ],
            "image/png": "[encoded data removed]"
          },
          "metadata": {}
        }
      ]
    },
    {
      "cell_type": "markdown",
      "source": [
        "### 1. Define the model [ f(w,b) ]\n"
      ],
      "metadata": {
        "id": "oSoI5VAN6SQL"
      }
    },
    {
      "cell_type": "code",
      "source": [
        "def compute_model_output(x, w, b):\n",
        "    return w * x + b"
      ],
      "metadata": {
        "id": "MWLSsuKS58EQ"
      },
      "execution_count": 12,
      "outputs": []
    },
    {
      "cell_type": "markdown",
      "source": [
        "### 2. Define cost function [ J(w,b) ]"
      ],
      "metadata": {
        "id": "dECzi7a-bGuV"
      }
    },
    {
      "cell_type": "code",
      "source": [
        "def cost_function(y_cap,y_train):\n",
        "  m = y_train.shape[0]\n",
        "  error_sq = (y_cap - y_train)**2\n",
        "  J_wb = np.mean(error_sq)/(2*m)\n",
        "  return J_wb"
      ],
      "metadata": {
        "id": "sbsboJsu7QIm"
      },
      "execution_count": 13,
      "outputs": []
    },
    {
      "cell_type": "markdown",
      "source": [
        "### 3. Define value updation [ i.e. compute gradient and update the w,b ]\n"
      ],
      "metadata": {
        "id": "xruvjFSxbKaw"
      }
    },
    {
      "cell_type": "code",
      "source": [
        "def value_update(learn_rate, y_cap, y_train, w, b, x0_train, x_train):\n",
        "    error = y_cap - y_train\n",
        "    m = x_train.shape[0]\n",
        "\n",
        "    # Update bias (b)\n",
        "    b_update = b - (learn_rate * np.dot(error, x0_train)) / m\n",
        "\n",
        "    # Update weight (w)\n",
        "    w_update = w - (learn_rate * np.dot(error, x_train)) / m\n",
        "\n",
        "    return b_update, w_update"
      ],
      "metadata": {
        "id": "7nZhmwknCzts"
      },
      "execution_count": 14,
      "outputs": []
    },
    {
      "cell_type": "markdown",
      "source": [
        "### 4. Define gradient descent alogrithm"
      ],
      "metadata": {
        "id": "-g4iKiGhbNkl"
      }
    },
    {
      "cell_type": "code",
      "source": [
        "def gradient_descent(learn_rate, w, b, x_train, y_train, max_itr):\n",
        "    m = x_train.shape[0]\n",
        "    x0_train = np.ones(m)  # Bias term\n",
        "\n",
        "    # Initial calculation\n",
        "    y_cap = compute_model_output(x_train, w, b)\n",
        "    J_wb = cost_function(y_cap, y_train)\n",
        "\n",
        "    # Print initial state\n",
        "    print(f\"Initial state: w = {w}, b = {b}, J_wb = {J_wb}\")\n",
        "\n",
        "    for i in range(max_itr):\n",
        "        # Update parameters\n",
        "        b_new, w_new = value_update(learn_rate, y_cap, y_train, w, b, x0_train, x_train)\n",
        "\n",
        "        # Recompute predictions and cost function\n",
        "        y_cap = compute_model_output(x_train, w_new, b_new)\n",
        "        J_wb_previous = J_wb\n",
        "        J_wb = cost_function(y_cap, y_train)\n",
        "\n",
        "        # Print the current state for debugging\n",
        "        print(f\"Iteration {i + 1}: w = {w_new}, b = {b_new}, J_wb = {J_wb}\")\n",
        "\n",
        "        # Check if cost increased (early stopping)\n",
        "        if J_wb > J_wb_previous:\n",
        "            print(\"Cost increased; stopping early.\")\n",
        "            return w, b, J_wb_previous, y_cap\n",
        "\n",
        "        # Update w and b for next iteration\n",
        "        w = w_new\n",
        "        b = b_new\n",
        "\n",
        "    return w, b, J_wb, y_cap\n"
      ],
      "metadata": {
        "id": "UdWrup_R9qip"
      },
      "execution_count": 15,
      "outputs": []
    },
    {
      "cell_type": "markdown",
      "source": [
        "#### test functions"
      ],
      "metadata": {
        "id": "XGmz3zCSP50g"
      }
    },
    {
      "cell_type": "code",
      "source": [
        "w,b=0,5.84;\n",
        "tmp_f_wb = compute_model_output(x_train,w,b)\n",
        "tmp_f_wb"
      ],
      "metadata": {
        "colab": {
          "base_uri": "https://localhost:8080/"
        },
        "id": "BJC1K3ad6-05",
        "outputId": "474194de-8c27-4c00-9eb1-35c6023410ef"
      },
      "execution_count": 16,
      "outputs": [
        {
          "output_type": "execute_result",
          "data": {
            "text/plain": [
              "array([5.84, 5.84, 5.84, 5.84, 5.84, 5.84, 5.84, 5.84, 5.84, 5.84, 5.84,\n",
              "       5.84, 5.84, 5.84, 5.84, 5.84, 5.84, 5.84, 5.84, 5.84, 5.84, 5.84,\n",
              "       5.84, 5.84, 5.84, 5.84, 5.84, 5.84, 5.84, 5.84, 5.84, 5.84, 5.84,\n",
              "       5.84, 5.84, 5.84, 5.84, 5.84, 5.84, 5.84, 5.84, 5.84, 5.84, 5.84,\n",
              "       5.84, 5.84, 5.84, 5.84, 5.84, 5.84, 5.84, 5.84, 5.84, 5.84, 5.84,\n",
              "       5.84, 5.84, 5.84, 5.84, 5.84, 5.84, 5.84, 5.84, 5.84, 5.84, 5.84,\n",
              "       5.84, 5.84, 5.84, 5.84, 5.84, 5.84, 5.84, 5.84, 5.84, 5.84, 5.84])"
            ]
          },
          "metadata": {},
          "execution_count": 16
        }
      ]
    },
    {
      "cell_type": "code",
      "source": [
        "tmp_J_wb = cost_function(tmp_f_wb,y_train)\n",
        "tmp_J_wb"
      ],
      "metadata": {
        "colab": {
          "base_uri": "https://localhost:8080/"
        },
        "id": "3hEgktBZ9cqF",
        "outputId": "732e6f03-6302-4dd1-a2d9-3e7f764d3f9c"
      },
      "execution_count": 17,
      "outputs": [
        {
          "output_type": "execute_result",
          "data": {
            "text/plain": [
              "0.18454176672103226"
            ]
          },
          "metadata": {},
          "execution_count": 17
        }
      ]
    },
    {
      "cell_type": "markdown",
      "source": [
        "#### Define parameter values and perform GDA"
      ],
      "metadata": {
        "id": "UbbHJ0msQA84"
      }
    },
    {
      "cell_type": "code",
      "source": [
        "learning_rate = 0.01\n",
        "max_itr = 100\n",
        "x0_train = np.ones(x_train.shape[0])"
      ],
      "metadata": {
        "id": "_wkzKiwCGzPf"
      },
      "execution_count": 18,
      "outputs": []
    },
    {
      "cell_type": "code",
      "source": [
        "w, b, J_wb, y_cap = gradient_descent(learning_rate, w, b, x_train, y_train, max_itr)\n",
        "print(w, b, J_wb)"
      ],
      "metadata": {
        "colab": {
          "base_uri": "https://localhost:8080/"
        },
        "id": "Wb3JqaNSIU1_",
        "outputId": "0499323a-f485-45d7-8d27-94e4a2ec3ccc"
      },
      "execution_count": 19,
      "outputs": [
        {
          "output_type": "stream",
          "name": "stdout",
          "text": [
            "Initial state: w = 0, b = 5.84, J_wb = 0.18454176672103226\n",
            "Iteration 1: w = 0.15392221893077923, b = 5.8378927168831165, J_wb = 0.165885281018047\n",
            "Iteration 2: w = 0.18643110315614922, b = 5.823344000239656, J_wb = 0.1647316035790092\n",
            "Iteration 3: w = 0.19443900745966464, b = 5.806308647998573, J_wb = 0.1642918671961059\n",
            "Iteration 4: w = 0.1975007156619949, b = 5.7887952792200865, J_wb = 0.1638825195048207\n",
            "Iteration 5: w = 0.19956195675086955, b = 5.771209149067826, J_wb = 0.16347572566800592\n",
            "Iteration 6: w = 0.2014188960685817, b = 5.7536319892357, J_wb = 0.1630703479799104\n",
            "Iteration 7: w = 0.20323218634319587, b = 5.736080251570774, J_wb = 0.16266633570617314\n",
            "Iteration 8: w = 0.2050342478408847, b = 5.718557215951139, J_wb = 0.1622636823826169\n",
            "Iteration 9: w = 0.20683162633312324, b = 5.701063504508411, J_wb = 0.1618623833622906\n",
            "Iteration 10: w = 0.2086256466811133, b = 5.683599203166255, J_wb = 0.16146243408697505\n",
            "Iteration 11: w = 0.21041658027445145, b = 5.666164289720047, J_wb = 0.16106383001675859\n",
            "Iteration 12: w = 0.21220448592851968, b = 5.648758720213805, J_wb = 0.16066656662712034\n",
            "Iteration 13: w = 0.21398937955907815, b = 5.631382446369047, J_wb = 0.16027063940876246\n",
            "Iteration 14: w = 0.21577126841887417, b = 5.614035419101436, J_wb = 0.159876043867554\n",
            "Iteration 15: w = 0.21755015800584787, b = 5.59671758923025, J_wb = 0.15948277552447973\n",
            "Iteration 16: w = 0.21932605345706715, b = 5.579428907621429, J_wb = 0.1590908299155894\n",
            "Iteration 17: w = 0.2210989598300047, b = 5.5621693252163205, J_wb = 0.15870020259194687\n",
            "Iteration 18: w = 0.22286888215930498, b = 5.544938793037376, J_wb = 0.15831088911957977\n",
            "Iteration 19: w = 0.22463582546824978, b = 5.527737262189188, J_wb = 0.15792288507942923\n",
            "Iteration 20: w = 0.22639979477108313, b = 5.510564683858583, J_wb = 0.1575361860672994\n",
            "Iteration 21: w = 0.22816079507349182, b = 5.493421009314536, J_wb = 0.15715078769380794\n",
            "Iteration 22: w = 0.22991883137271368, b = 5.476306189908043, J_wb = 0.15676668558433574\n",
            "Iteration 23: w = 0.23167390865757062, b = 5.4592201770719795, J_wb = 0.15638387537897747\n",
            "Iteration 24: w = 0.23342603190848685, b = 5.442162922320967, J_wb = 0.15600235273249213\n",
            "Iteration 25: w = 0.2351752060975035, b = 5.425134377251234, J_wb = 0.15562211331425374\n",
            "Iteration 26: w = 0.23692143618829323, b = 5.408134493540478, J_wb = 0.15524315280820192\n",
            "Iteration 27: w = 0.2386647271361741, b = 5.391163222947734, J_wb = 0.1548654669127933\n",
            "Iteration 28: w = 0.2404050838881235, b = 5.374220517313228, J_wb = 0.15448905134095237\n",
            "Iteration 29: w = 0.24214251138279258, b = 5.357306328558248, J_wb = 0.15411390182002288\n",
            "Iteration 30: w = 0.24387701455052016, b = 5.340420608685004, J_wb = 0.15374001409171972\n",
            "Iteration 31: w = 0.2456085983133464, b = 5.323563309776494, J_wb = 0.15336738391207985\n",
            "Iteration 32: w = 0.24733726758502697, b = 5.306734383996367, J_wb = 0.15299600705141478\n",
            "Iteration 33: w = 0.2490630272710473, b = 5.2899337835887845, J_wb = 0.15262587929426227\n",
            "Iteration 34: w = 0.25078588226863596, b = 5.27316146087829, J_wb = 0.1522569964393385\n",
            "Iteration 35: w = 0.252505837466779, b = 5.2564173682696715, J_wb = 0.15188935429949052\n",
            "Iteration 36: w = 0.2542228977462335, b = 5.239701458247825, J_wb = 0.15152294870164842\n",
            "Iteration 37: w = 0.25593706797954163, b = 5.22301368337762, J_wb = 0.1511577754867784\n",
            "Iteration 38: w = 0.2576483530310444, b = 5.206353996303768, J_wb = 0.1507938305098351\n",
            "Iteration 39: w = 0.2593567577568955, b = 5.189722349750686, J_wb = 0.1504311096397149\n",
            "Iteration 40: w = 0.26106228700507494, b = 5.1731186965223594, J_wb = 0.15006960875920883\n",
            "Iteration 41: w = 0.26276494561540303, b = 5.1565429895022135, J_wb = 0.14970932376495596\n",
            "Iteration 42: w = 0.26446473841955404, b = 5.139995181652976, J_wb = 0.14935025056739673\n",
            "Iteration 43: w = 0.26616167024106974, b = 5.123475226016546, J_wb = 0.14899238509072651\n",
            "Iteration 44: w = 0.26785574589537325, b = 5.106983075713858, J_wb = 0.14863572327284957\n",
            "Iteration 45: w = 0.2695469701897828, b = 5.09051868394475, J_wb = 0.1482802610653325\n",
            "Iteration 46: w = 0.2712353479235252, b = 5.074082003987834, J_wb = 0.1479259944333589\n",
            "Iteration 47: w = 0.2729208838877494, b = 5.0576729892003565, J_wb = 0.14757291935568292\n",
            "Iteration 48: w = 0.2746035828655403, b = 5.041291593018073, J_wb = 0.14722103182458413\n",
            "Iteration 49: w = 0.2762834496319322, b = 5.024937768955112, J_wb = 0.14687032784582174\n",
            "Iteration 50: w = 0.27796048895392234, b = 5.008611470603843, J_wb = 0.1465208034385893\n",
            "Iteration 51: w = 0.2796347055904845, b = 4.992312651634749, J_wb = 0.14617245463546968\n",
            "Iteration 52: w = 0.28130610429258235, b = 4.9760412657962885, J_wb = 0.14582527748238985\n",
            "Iteration 53: w = 0.28297468980318313, b = 4.9597972669147685, J_wb = 0.14547926803857608\n",
            "Iteration 54: w = 0.28464046685727107, b = 4.943580608894214, J_wb = 0.1451344223765092\n",
            "Iteration 55: w = 0.2863034401818607, b = 4.927391245716234, J_wb = 0.14479073658187988\n",
            "Iteration 56: w = 0.28796361449601043, b = 4.911229131439894, J_wb = 0.14444820675354456\n",
            "Iteration 57: w = 0.28962099451083567, b = 4.895094220201584, J_wb = 0.14410682900348082\n",
            "Iteration 58: w = 0.29127558492952255, b = 4.878986466214888, J_wb = 0.1437665994567433\n",
            "Iteration 59: w = 0.29292739044734106, b = 4.862905823770457, J_wb = 0.1434275142514199\n",
            "Iteration 60: w = 0.2945764157516583, b = 4.846852247235873, J_wb = 0.1430895695385878\n",
            "Iteration 61: w = 0.2962226655219521, b = 4.830825691055527, J_wb = 0.14275276148226976\n",
            "Iteration 62: w = 0.29786614442982395, b = 4.814826109750487, J_wb = 0.14241708625939067\n",
            "Iteration 63: w = 0.2995068571390123, b = 4.798853457918364, J_wb = 0.14208254005973406\n",
            "Iteration 64: w = 0.3011448083054062, b = 4.782907690233191, J_wb = 0.14174911908589885\n",
            "Iteration 65: w = 0.30278000257705795, b = 4.76698876144529, J_wb = 0.14141681955325638\n",
            "Iteration 66: w = 0.30441244459419653, b = 4.751096626381144, J_wb = 0.1410856376899073\n",
            "Iteration 67: w = 0.30604213898924104, b = 4.7352312399432686, J_wb = 0.14075556973663889\n",
            "Iteration 68: w = 0.30766909038681334, b = 4.719392557110085, J_wb = 0.14042661194688216\n",
            "Iteration 69: w = 0.3092933034037515, b = 4.703580532935793, J_wb = 0.14009876058666962\n",
            "Iteration 70: w = 0.3109147826491229, b = 4.687795122550241, J_wb = 0.1397720119345927\n",
            "Iteration 71: w = 0.3125335327242371, b = 4.6720362811588, J_wb = 0.1394463622817596\n",
            "Iteration 72: w = 0.3141495582226591, b = 4.656303964042237, J_wb = 0.13912180793175308\n",
            "Iteration 73: w = 0.3157628637302223, b = 4.640598126556587, J_wb = 0.13879834520058862\n",
            "Iteration 74: w = 0.31737345382504145, b = 4.624918724133029, J_wb = 0.13847597041667256\n",
            "Iteration 75: w = 0.3189813330775258, b = 4.609265712277754, J_wb = 0.13815467992076041\n",
            "Iteration 76: w = 0.320586506050392, b = 4.593639046571844, J_wb = 0.13783447006591534\n",
            "Iteration 77: w = 0.32218897729867696, b = 4.578038682671144, J_wb = 0.13751533721746678\n",
            "Iteration 78: w = 0.3237887513697508, b = 4.562464576306136, J_wb = 0.13719727775296908\n",
            "Iteration 79: w = 0.3253858328033299, b = 4.546916683281815, J_wb = 0.13688028806216057\n",
            "Iteration 80: w = 0.32698022613148964, b = 4.531394959477558, J_wb = 0.13656436454692242\n",
            "Iteration 81: w = 0.32857193587867733, b = 4.515899360847008, J_wb = 0.1362495036212378\n",
            "Iteration 82: w = 0.330160966561725, b = 4.500429843417942, J_wb = 0.13593570171115135\n",
            "Iteration 83: w = 0.3317473226898622, b = 4.484986363292148, J_wb = 0.13562295525472842\n",
            "Iteration 84: w = 0.3333310087647288, b = 4.4695688766453, J_wb = 0.13531126070201477\n",
            "Iteration 85: w = 0.33491202928038794, b = 4.4541773397268365, J_wb = 0.13500061451499612\n",
            "Iteration 86: w = 0.3364903887233385, b = 4.438811708859832, J_wb = 0.13469101316755808\n",
            "Iteration 87: w = 0.33806609157252804, b = 4.4234719404408755, J_wb = 0.1343824531454463\n",
            "Iteration 88: w = 0.3396391422993654, b = 4.408157990939948, J_wb = 0.13407493094622622\n",
            "Iteration 89: w = 0.3412095453677335, b = 4.392869816900296, J_wb = 0.13376844307924365\n",
            "Iteration 90: w = 0.3427773052340019, b = 4.37760737493831, J_wb = 0.13346298606558482\n",
            "Iteration 91: w = 0.3443424263470395, b = 4.362370621743401, J_wb = 0.1331585564380373\n",
            "Iteration 92: w = 0.3459049131482271, b = 4.3471595140778785, J_wb = 0.1328551507410503\n",
            "Iteration 93: w = 0.34746477007147003, b = 4.331974008776825, J_wb = 0.13255276553069553\n",
            "Iteration 94: w = 0.3490220015432109, b = 4.316814062747977, J_wb = 0.1322513973746282\n",
            "Iteration 95: w = 0.35057661198244183, b = 4.301679632971601, J_wb = 0.131951042852048\n",
            "Iteration 96: w = 0.35212860580071736, b = 4.2865706765003715, J_wb = 0.13165169855366032\n",
            "Iteration 97: w = 0.3536779874021666, b = 4.271487150459248, J_wb = 0.1313533610816374\n",
            "Iteration 98: w = 0.355224761183506, b = 4.2564290120453565, J_wb = 0.13105602704957986\n",
            "Iteration 99: w = 0.35676893153405176, b = 4.241396218527864, J_wb = 0.13075969308247842\n",
            "Iteration 100: w = 0.3583105028357323, b = 4.226388727247861, J_wb = 0.13046435581667531\n",
            "0.3583105028357323 4.226388727247861 0.13046435581667531\n"
          ]
        }
      ]
    },
    {
      "cell_type": "markdown",
      "source": [
        "#### Plot Best Fit Line"
      ],
      "metadata": {
        "id": "EyDIC4ggQLEr"
      }
    },
    {
      "cell_type": "code",
      "source": [
        "# Plot the line\n",
        "plt.plot(x_train, y_cap, color = 'green')\n",
        "plt.scatter(x_train, y_train, c='r', marker='x')\n",
        "\n",
        "plt.xlabel('x')\n",
        "plt.ylabel('y')\n",
        "plt.title('Best Fit Line')"
      ],
      "metadata": {
        "colab": {
          "base_uri": "https://localhost:8080/",
          "height": 489
        },
        "id": "ZeKQopJTIt3k",
        "outputId": "8f0f88c5-5666-4054-cacf-5a401fa09c6e"
      },
      "execution_count": 20,
      "outputs": [
        {
          "output_type": "execute_result",
          "data": {
            "text/plain": [
              "Text(0.5, 1.0, 'Best Fit Line')"
            ]
          },
          "metadata": {},
          "execution_count": 20
        },
        {
          "output_type": "display_data",
          "data": {
            "text/plain": [
              "<Figure size 640x480 with 1 Axes>"
            ],
            "image/png": "[encoded data removed]"
          },
          "metadata": {}
        }
      ]
    },
    {
      "cell_type": "markdown",
      "source": [
        "## Linear Regression"
      ],
      "metadata": {
        "id": "tI--hUMYnzOj"
      }
    },
    {
      "cell_type": "code",
      "source": [
        "x= x_train\n",
        "y= y_train\n",
        "w = (np.mean(x*y) - np.mean(x)*np.mean(y))/(np.mean(x**2) - np.mean(x)**2)\n",
        "b = np.mean(y) - w*np.mean(x)"
      ],
      "metadata": {
        "id": "cXvZZOqFowc-"
      },
      "execution_count": 21,
      "outputs": []
    },
    {
      "cell_type": "code",
      "source": [
        "y_pred = w*x_test + b"
      ],
      "metadata": {
        "id": "IqFdvO-Eo_72"
      },
      "execution_count": 22,
      "outputs": []
    },
    {
      "cell_type": "code",
      "source": [
        "# Plot the line\n",
        "plt.plot(x_test, y_pred, color = 'green')\n",
        "plt.scatter(x_train, y_train, c='r', marker='x')\n",
        "\n",
        "plt.xlabel('x')\n",
        "plt.ylabel('y')\n",
        "plt.title('Best Fit Line')"
      ],
      "metadata": {
        "colab": {
          "base_uri": "https://localhost:8080/",
          "height": 489
        },
        "id": "M-4Xm4rWpM98",
        "outputId": "3db72adb-d0e3-4819-8f81-776ffb5f7832"
      },
      "execution_count": 23,
      "outputs": [
        {
          "output_type": "execute_result",
          "data": {
            "text/plain": [
              "Text(0.5, 1.0, 'Best Fit Line')"
            ]
          },
          "metadata": {},
          "execution_count": 23
        },
        {
          "output_type": "display_data",
          "data": {
            "text/plain": [
              "<Figure size 640x480 with 1 Axes>"
            ],
            "image/png": "[encoded data removed]"
          },
          "metadata": {}
        }
      ]
    }
  ]
}